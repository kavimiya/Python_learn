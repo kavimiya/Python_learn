{
 "cells": [
  {
   "cell_type": "markdown",
   "id": "9aadd281-f88c-49b0-97dd-5278df757dfe",
   "metadata": {},
   "source": [
    "# Univariate, Bivariate, and Multivariate Analysis in EDA"
   ]
  },
  {
   "cell_type": "markdown",
   "id": "435075ff-dabf-46ca-8f43-65262b78b9b6",
   "metadata": {
    "jp-MarkdownHeadingCollapsed": true
   },
   "source": [
    "* Univariate, bivariate, and multivariate analysis are core concepts in Exploratory Data Analysis (EDA) used to understand different aspects of a dataset. Here's a breakdown of these analysis types, when to use them, and real-time examples to make them easy to understand:\n",
    "\n",
    "## 1. Univariate Analysis\n",
    "\n",
    "### Definition:\n",
    "* Univariate analysis involves analyzing one variable at a time. Its main purpose is to summarize and find patterns in individual variables. It helps to understand the distribution, central tendency (mean, median, mode), spread (range, variance, standard deviation), and the presence of outliers.\n",
    "\n",
    "### Common Techniques:\n",
    "\n",
    "* Frequency distribution (for categorical data)\n",
    "* Histogram/Bar plot (for continuous/categorical data)\n",
    "* Boxplot (for distribution and outliers)\n",
    "* Descriptive statistics (mean, median, mode, variance, etc.)\n",
    "\n",
    "### When to use:\n",
    "\n",
    "* When you want to summarize the behavior of a single variable.\n",
    "* To understand the distribution of data for numeric or categorical variables.\n",
    "\n",
    "### Real-time Example:\n",
    "\n",
    "* Scenario: You are analyzing the ages of customers who purchased insurance.\n",
    "* Objective: You want to know the age distribution of the customers.\n",
    "\n",
    "## Univariate Analysis: \n",
    "* Create a histogram of the \"Age\" column, showing how many customers fall within different age ranges, and calculate the mean and median age to summarize the overall customer base.\n",
    "\n",
    "## 2. Bivariate Analysis\n",
    "### Definition:\n",
    "* Bivariate analysis examines the relationship between two variables. It helps in identifying correlations, trends, and patterns between the variables, allowing you to understand how one variable affects or relates to another.\n",
    "\n",
    "### Common Techniques:\n",
    "\n",
    "* Scatter plot (for continuous variables)\n",
    "* Correlation coefficient (for continuous variables)\n",
    "* Bar plot/Box plot (for categorical vs continuous data)\n",
    "* Line plot (to see trends between two continuous variables)\n",
    "\n",
    "### When to use:\n",
    "\n",
    "* When you want to analyze the relationship between two variables.\n",
    "* To check if a variable impacts another (e.g., \"Does age impact insurance premiums?\").\n",
    "\n",
    "### Real-time Example:\n",
    "\n",
    "* Scenario: You're analyzing how the Annual Premium varies with Age for insurance buyers.\n",
    "* Objective: To see if older customers tend to pay higher premiums.\n",
    "\n",
    "### Bivariate Analysis:\n",
    "* Plot a scatter plot between \"Age\" (x-axis) and \"Annual Premium\" (y-axis) and calculate the correlation. If the scatter plot shows an upward trend, this indicates a positive correlation between age and premium.\n",
    "\n",
    "### 3. Multivariate Analysis\n",
    "#### Definition:\n",
    "* Multivariate analysis involves examining more than two variables simultaneously. It helps in understanding the complex interactions between multiple variables, identifying patterns and trends that cannot be observed through univariate or bivariate analysis.\n",
    "\n",
    "### Common Techniques:\n",
    "\n",
    "* Multiple regression analysis (for continuous dependent variables)\n",
    "* Heatmap (to visualize correlations between multiple variables)\n",
    "* Pair plot (scatterplot matrix to see relationships between several variables)\n",
    "* Principal Component Analysis (PCA) (to reduce dimensionality)\n",
    "* Clustering (e.g., K-means) (to group data points based on multiple variables)\n",
    "\n",
    "### When to use:\n",
    "\n",
    "* When you need to analyze complex relationships between several variables at once.\n",
    "* To build predictive models (e.g., predicting insurance purchase decisions based on multiple customer characteristics).\n",
    "\n",
    "### Real-time Example:\n",
    "\n",
    "* Scenario: You want to predict whether a customer will buy insurance based on multiple factors: Age, Gender, Vehicle Age, Annual Premium, and Previously Insured status.\n",
    "* Objective: Use all these variables to predict the customer’s purchase decision.\n",
    "\n",
    "### Multivariate Analysis: \n",
    "* Use logistic regression (for binary outcome) or decision trees to model the relationship between multiple input variables (features) and the purchase decision (target).\n"
   ]
  },
  {
   "cell_type": "code",
   "execution_count": null,
   "id": "5c8528c6-6bdb-48f2-81b2-c4f7b8f5563c",
   "metadata": {},
   "outputs": [],
   "source": []
  }
 ],
 "metadata": {
  "kernelspec": {
   "display_name": "Python 3 (ipykernel)",
   "language": "python",
   "name": "python3"
  },
  "language_info": {
   "codemirror_mode": {
    "name": "ipython",
    "version": 3
   },
   "file_extension": ".py",
   "mimetype": "text/x-python",
   "name": "python",
   "nbconvert_exporter": "python",
   "pygments_lexer": "ipython3",
   "version": "3.9.6"
  }
 },
 "nbformat": 4,
 "nbformat_minor": 5
}
