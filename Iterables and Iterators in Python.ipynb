{
 "cells": [
  {
   "cell_type": "markdown",
   "id": "5b7d6202-b61e-488a-977f-08bba75ee833",
   "metadata": {},
   "source": [
    "# Iterables and Iterators in Python"
   ]
  },
  {
   "cell_type": "markdown",
   "id": "b8b6bfe6-8306-407b-b049-ff5fcf736db8",
   "metadata": {},
   "source": [
    "## 1. What is an Iterable?\n",
    "* `An iterable is any Python object that you can loop over (iterate through) with a for loop`. Think of iterables as collections of items, like `lists, tuples, or strings`, that you can go through `one by one`."
   ]
  },
  {
   "cell_type": "markdown",
   "id": "aac57c10-bbbc-4a66-a723-143e66911cef",
   "metadata": {},
   "source": [
    "## Examples of Iterables:\n",
    "* Lists: [1, 2, 3]\n",
    "* Tuples: (4, 5, 6)\n",
    "* Strings: \"Hello\"\n",
    "* Dictionaries: {\"key\": \"value\"}\n",
    "* Sets: {7, 8, 9}\n",
    "\n",
    "## How does an iterable work? \n",
    "* An iterable is an object that implements the __iter__() method, which returns an iterator."
   ]
  },
  {
   "cell_type": "code",
   "execution_count": 2,
   "id": "5ce4d021-30b9-40d1-8fb8-feb5e52957fa",
   "metadata": {},
   "outputs": [
    {
     "name": "stdout",
     "output_type": "stream",
     "text": [
      "1\n",
      "2\n",
      "3\n"
     ]
    }
   ],
   "source": [
    "# Example of an iterable\n",
    "my_list = [1, 2, 3]\n",
    "for item in my_list:\n",
    "    print(item)\n"
   ]
  },
  {
   "cell_type": "markdown",
   "id": "913b9ec5-a589-44da-84f5-dc18af8260ac",
   "metadata": {},
   "source": [
    "## 2. What is an Iterator?\n",
    "* An iterator is an object that represents a stream of data; it fetches one item at a time when you ask for it. In Python, an iterator implements two methods:\n",
    "\n",
    "* __iter__(): Returns the iterator object itself.\n",
    "* __next__(): Returns the next item in the sequence.\n",
    "\n",
    "When you use a for loop, Python automatically calls __iter__() to get an iterator object, and then repeatedly calls __next__() to get each item."
   ]
  },
  {
   "cell_type": "code",
   "execution_count": 4,
   "id": "514da7b1-e888-4bfc-adab-d69c196f8da1",
   "metadata": {},
   "outputs": [
    {
     "name": "stdout",
     "output_type": "stream",
     "text": [
      "1\n",
      "2\n",
      "3\n"
     ]
    }
   ],
   "source": [
    "# Example of an iterator\n",
    "my_iterator = iter(my_list)  # Creating an iterator from a list\n",
    "print(next(my_iterator)) \n",
    "print(next(my_iterator)) \n",
    "print(next(my_iterator)) \n"
   ]
  },
  {
   "cell_type": "code",
   "execution_count": null,
   "id": "3c1c6223-ff7b-4ec9-81fa-1ab034da0074",
   "metadata": {},
   "outputs": [],
   "source": [
    "## 3. Differences Between Iterable and Iterator:\n",
    "Iterable\t                                             Iterator\n",
    "Can be looped over (e.g., list, tuple, etc.)\t  Produces one element at a time using next()\n",
    "Implements __iter__()\t                          Implements both __iter__() and __next__()\n",
    "Doesnt remember state\t                          Remembers the state (current position in the iterable)"
   ]
  },
  {
   "cell_type": "markdown",
   "id": "ac3e1fe1-55f2-41c2-8714-f3dbac8da36b",
   "metadata": {},
   "source": [
    "## Where and When to Use Iterables and Iterators:\n",
    "\n",
    "### Iterables:\n",
    "* Use when you need to process a collection of items (like a list, tuple, or string) with a for loop.\n",
    "\n",
    "## Example: \n",
    "* When you want to print all the items in a list.\n",
    "\n",
    "\n",
    "### Iterators:\n",
    "* Use when you want to fetch items one by one, especially when you don’t need to hold all the items in memory at once (e.g., processing large datasets, reading large files).\n",
    "\n",
    "## Example: \n",
    "* Reading lines from a file without loading the entire file into memory."
   ]
  },
  {
   "cell_type": "markdown",
   "id": "584f5fe8-5af8-4bf0-8bc5-20c20fee6dd4",
   "metadata": {},
   "source": [
    "## Summary\n",
    "* Iterables are collections of items (lists, strings, etc.) that can be looped over.\n",
    "* Iterators are objects that fetch one item at a time and are created using iter() or generator functions.\n",
    "* Use iterables when you have collections to loop through, and use iterators for memory-efficient item-by-item processing of large data sources."
   ]
  },
  {
   "cell_type": "code",
   "execution_count": null,
   "id": "10136eb6-19df-4018-997e-d37ec9af148a",
   "metadata": {},
   "outputs": [],
   "source": []
  }
 ],
 "metadata": {
  "kernelspec": {
   "display_name": "Python 3 (ipykernel)",
   "language": "python",
   "name": "python3"
  },
  "language_info": {
   "codemirror_mode": {
    "name": "ipython",
    "version": 3
   },
   "file_extension": ".py",
   "mimetype": "text/x-python",
   "name": "python",
   "nbconvert_exporter": "python",
   "pygments_lexer": "ipython3",
   "version": "3.9.6"
  }
 },
 "nbformat": 4,
 "nbformat_minor": 5
}
